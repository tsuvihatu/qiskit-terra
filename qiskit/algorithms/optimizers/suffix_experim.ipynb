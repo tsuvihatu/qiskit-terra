{
 "cells": [
  {
   "cell_type": "code",
   "execution_count": 6,
   "metadata": {},
   "outputs": [
    {
     "name": "stdout",
     "output_type": "stream",
     "text": [
      "Optimizer: ADAM        "
     ]
    },
    {
     "name": "stderr",
     "output_type": "stream",
     "text": [
      "/Users/shirotamiya/.pyenv/versions/3.10.3/lib/python3.10/site-packages/numpy/linalg/linalg.py:2146: RuntimeWarning: divide by zero encountered in det\n",
      "  r = _umath_linalg.det(a, signature=signature)\n",
      "/Users/shirotamiya/.pyenv/versions/3.10.3/lib/python3.10/site-packages/numpy/linalg/linalg.py:2146: RuntimeWarning: invalid value encountered in det\n",
      "  r = _umath_linalg.det(a, signature=signature)\n"
     ]
    },
    {
     "name": "stdout",
     "output_type": "stream",
     "text": [
      "ADAM_H2_100shots_1000iters_noisy\n",
      "sa_result -0.9030355874581021\n",
      "prev_result -0.9233133210549106\n",
      "improvement -0.02027773359680851\n",
      "Optimizer: ADAM        "
     ]
    },
    {
     "ename": "KeyboardInterrupt",
     "evalue": "",
     "output_type": "error",
     "traceback": [
      "\u001b[0;31m---------------------------------------------------------------------------\u001b[0m",
      "\u001b[0;31mKeyboardInterrupt\u001b[0m                         Traceback (most recent call last)",
      "\u001b[1;32m/Users/shirotamiya/git/qiskit-terra/qiskit/algorithms/optimizers/suffix_experim.ipynb Cell 1'\u001b[0m in \u001b[0;36m<cell line: 62>\u001b[0;34m()\u001b[0m\n\u001b[1;32m     <a href='vscode-notebook-cell:/Users/shirotamiya/git/qiskit-terra/qiskit/algorithms/optimizers/suffix_experim.ipynb#ch0000000?line=92'>93</a>\u001b[0m vqe \u001b[39m=\u001b[39m VQE(ansatz, suffix_optimizer, callback \u001b[39m=\u001b[39m store_intermediate_result, quantum_instance\u001b[39m=\u001b[39mquantum_instance)\n\u001b[1;32m     <a href='vscode-notebook-cell:/Users/shirotamiya/git/qiskit-terra/qiskit/algorithms/optimizers/suffix_experim.ipynb#ch0000000?line=93'>94</a>\u001b[0m \u001b[39m#vqe = VQE(ansatz, suffix_optimizer, callback=store_intermediate_result, quantum_instance = QuantumInstance(backend=Aer.get_backend('statevector_simulator')))\u001b[39;00m\n\u001b[0;32m---> <a href='vscode-notebook-cell:/Users/shirotamiya/git/qiskit-terra/qiskit/algorithms/optimizers/suffix_experim.ipynb#ch0000000?line=94'>95</a>\u001b[0m result \u001b[39m=\u001b[39m vqe\u001b[39m.\u001b[39;49mcompute_minimum_eigenvalue(operator\u001b[39m=\u001b[39;49mH2_op)\n\u001b[1;32m     <a href='vscode-notebook-cell:/Users/shirotamiya/git/qiskit-terra/qiskit/algorithms/optimizers/suffix_experim.ipynb#ch0000000?line=95'>96</a>\u001b[0m converge_cnts[j,i] \u001b[39m=\u001b[39m np\u001b[39m.\u001b[39masarray(counts)\n\u001b[1;32m     <a href='vscode-notebook-cell:/Users/shirotamiya/git/qiskit-terra/qiskit/algorithms/optimizers/suffix_experim.ipynb#ch0000000?line=96'>97</a>\u001b[0m converge_vals[j,i] \u001b[39m=\u001b[39m np\u001b[39m.\u001b[39masarray(values)\n",
      "File \u001b[0;32m~/git/qiskit-terra/qiskit/algorithms/minimum_eigen_solvers/vqe.py:533\u001b[0m, in \u001b[0;36mVQE.compute_minimum_eigenvalue\u001b[0;34m(self, operator, aux_operators)\u001b[0m\n\u001b[1;32m    530\u001b[0m \u001b[39melse\u001b[39;00m:\n\u001b[1;32m    531\u001b[0m     \u001b[39m# keep this until Optimizer.optimize is removed\u001b[39;00m\n\u001b[1;32m    532\u001b[0m     \u001b[39mtry\u001b[39;00m:\n\u001b[0;32m--> 533\u001b[0m         opt_result \u001b[39m=\u001b[39m \u001b[39mself\u001b[39;49m\u001b[39m.\u001b[39;49moptimizer\u001b[39m.\u001b[39;49mminimize(\n\u001b[1;32m    534\u001b[0m             fun\u001b[39m=\u001b[39;49menergy_evaluation, x0\u001b[39m=\u001b[39;49minitial_point, jac\u001b[39m=\u001b[39;49mgradient, bounds\u001b[39m=\u001b[39;49mbounds\n\u001b[1;32m    535\u001b[0m         )\n\u001b[1;32m    536\u001b[0m     \u001b[39mexcept\u001b[39;00m \u001b[39mAttributeError\u001b[39;00m:\n\u001b[1;32m    537\u001b[0m         \u001b[39m# self.optimizer is an optimizer with the deprecated interface that uses\u001b[39;00m\n\u001b[1;32m    538\u001b[0m         \u001b[39m# ``optimize`` instead of ``minimize```\u001b[39;00m\n\u001b[1;32m    539\u001b[0m         warnings\u001b[39m.\u001b[39mwarn(\n\u001b[1;32m    540\u001b[0m             \u001b[39m\"\u001b[39m\u001b[39mUsing an optimizer that is run with the ``optimize`` method is \u001b[39m\u001b[39m\"\u001b[39m\n\u001b[1;32m    541\u001b[0m             \u001b[39m\"\u001b[39m\u001b[39mdeprecated as of Qiskit Terra 0.19.0 and will be unsupported no \u001b[39m\u001b[39m\"\u001b[39m\n\u001b[0;32m   (...)\u001b[0m\n\u001b[1;32m    545\u001b[0m             stacklevel\u001b[39m=\u001b[39m\u001b[39m2\u001b[39m,\n\u001b[1;32m    546\u001b[0m         )\n",
      "File \u001b[0;32m~/git/qiskit-terra/qiskit/algorithms/optimizers/suffix_averaging.py:124\u001b[0m, in \u001b[0;36mSuffixAveragingOptimizer.minimize\u001b[0;34m(self, fun, x0, jac, bounds)\u001b[0m\n\u001b[1;32m    116\u001b[0m \u001b[39mdef\u001b[39;00m \u001b[39mminimize\u001b[39m(\n\u001b[1;32m    117\u001b[0m     \u001b[39mself\u001b[39m,\n\u001b[1;32m    118\u001b[0m     fun: Callable[[POINT], \u001b[39mfloat\u001b[39m],\n\u001b[0;32m   (...)\u001b[0m\n\u001b[1;32m    121\u001b[0m     bounds: Optional[List[Tuple[\u001b[39mfloat\u001b[39m, \u001b[39mfloat\u001b[39m]]] \u001b[39m=\u001b[39m \u001b[39mNone\u001b[39;00m,\n\u001b[1;32m    122\u001b[0m ) \u001b[39m-\u001b[39m\u001b[39m>\u001b[39m OptimizerResult:\n\u001b[0;32m--> 124\u001b[0m     result \u001b[39m=\u001b[39m \u001b[39mself\u001b[39;49m\u001b[39m.\u001b[39;49m_optimizer\u001b[39m.\u001b[39;49mminimize(fun, x0, jac\u001b[39m=\u001b[39;49mjac, bounds\u001b[39m=\u001b[39;49mbounds)\n\u001b[1;32m    125\u001b[0m     result\u001b[39m.\u001b[39mx \u001b[39m=\u001b[39m \u001b[39mself\u001b[39m\u001b[39m.\u001b[39m_return_suffix_average()\n\u001b[1;32m    126\u001b[0m     result\u001b[39m.\u001b[39mfun \u001b[39m=\u001b[39m fun(np\u001b[39m.\u001b[39mcopy(result\u001b[39m.\u001b[39mx))\n",
      "File \u001b[0;32m~/git/qiskit-terra/qiskit/utils/deprecation.py:27\u001b[0m, in \u001b[0;36mdeprecate_arguments.<locals>.decorator.<locals>.wrapper\u001b[0;34m(*args, **kwargs)\u001b[0m\n\u001b[1;32m     25\u001b[0m \u001b[39mif\u001b[39;00m kwargs:\n\u001b[1;32m     26\u001b[0m     _rename_kwargs(func\u001b[39m.\u001b[39m\u001b[39m__name__\u001b[39m, kwargs, kwarg_map)\n\u001b[0;32m---> 27\u001b[0m \u001b[39mreturn\u001b[39;00m func(\u001b[39m*\u001b[39;49margs, \u001b[39m*\u001b[39;49m\u001b[39m*\u001b[39;49mkwargs)\n",
      "File \u001b[0;32m~/git/qiskit-terra/qiskit/algorithms/optimizers/adam_amsgrad.py:242\u001b[0m, in \u001b[0;36mADAM.minimize\u001b[0;34m(self, fun, x0, jac, bounds, objective_function, initial_point, gradient_function)\u001b[0m\n\u001b[1;32m    240\u001b[0m \u001b[39mwhile\u001b[39;00m \u001b[39mself\u001b[39m\u001b[39m.\u001b[39m_t \u001b[39m<\u001b[39m \u001b[39mself\u001b[39m\u001b[39m.\u001b[39m_maxiter:\n\u001b[1;32m    241\u001b[0m     \u001b[39mif\u001b[39;00m \u001b[39mself\u001b[39m\u001b[39m.\u001b[39m_t \u001b[39m>\u001b[39m \u001b[39m0\u001b[39m:\n\u001b[0;32m--> 242\u001b[0m         derivative \u001b[39m=\u001b[39m jac(params)\n\u001b[1;32m    243\u001b[0m     \u001b[39mself\u001b[39m\u001b[39m.\u001b[39m_t \u001b[39m+\u001b[39m\u001b[39m=\u001b[39m \u001b[39m1\u001b[39m\n\u001b[1;32m    244\u001b[0m     \u001b[39mself\u001b[39m\u001b[39m.\u001b[39m_m \u001b[39m=\u001b[39m \u001b[39mself\u001b[39m\u001b[39m.\u001b[39m_beta_1 \u001b[39m*\u001b[39m \u001b[39mself\u001b[39m\u001b[39m.\u001b[39m_m \u001b[39m+\u001b[39m (\u001b[39m1\u001b[39m \u001b[39m-\u001b[39m \u001b[39mself\u001b[39m\u001b[39m.\u001b[39m_beta_1) \u001b[39m*\u001b[39m derivative\n",
      "File \u001b[0;32m~/git/qiskit-terra/qiskit/algorithms/optimizers/optimizer.py:261\u001b[0m, in \u001b[0;36mOptimizer.wrap_function.<locals>.function_wrapper\u001b[0;34m(*wrapper_args)\u001b[0m\n\u001b[1;32m    260\u001b[0m \u001b[39mdef\u001b[39;00m \u001b[39mfunction_wrapper\u001b[39m(\u001b[39m*\u001b[39mwrapper_args):\n\u001b[0;32m--> 261\u001b[0m     \u001b[39mreturn\u001b[39;00m function(\u001b[39m*\u001b[39;49m(wrapper_args \u001b[39m+\u001b[39;49m args))\n",
      "File \u001b[0;32m~/git/qiskit-terra/qiskit/algorithms/optimizers/optimizer.py:239\u001b[0m, in \u001b[0;36mOptimizer.gradient_num_diff\u001b[0;34m(x_center, f, epsilon, max_evals_grouped)\u001b[0m\n\u001b[1;32m    237\u001b[0m \u001b[39mfor\u001b[39;00m chunk \u001b[39min\u001b[39;00m chunks:  \u001b[39m# eval the chunks in order\u001b[39;00m\n\u001b[1;32m    238\u001b[0m     parallel_parameters \u001b[39m=\u001b[39m np\u001b[39m.\u001b[39mconcatenate(chunk)\n\u001b[0;32m--> 239\u001b[0m     todos_results \u001b[39m=\u001b[39m f(parallel_parameters)  \u001b[39m# eval the points in a chunk (order preserved)\u001b[39;00m\n\u001b[1;32m    240\u001b[0m     \u001b[39mif\u001b[39;00m \u001b[39misinstance\u001b[39m(todos_results, \u001b[39mfloat\u001b[39m):\n\u001b[1;32m    241\u001b[0m         grad\u001b[39m.\u001b[39mappend((todos_results \u001b[39m-\u001b[39m forig) \u001b[39m/\u001b[39m epsilon)\n",
      "File \u001b[0;32m~/git/qiskit-terra/qiskit/algorithms/minimum_eigen_solvers/vqe.py:622\u001b[0m, in \u001b[0;36mVQE.get_energy_evaluation.<locals>.energy_evaluation\u001b[0;34m(parameters)\u001b[0m\n\u001b[1;32m    619\u001b[0m param_bindings \u001b[39m=\u001b[39m \u001b[39mdict\u001b[39m(\u001b[39mzip\u001b[39m(ansatz_params, parameter_sets\u001b[39m.\u001b[39mtranspose()\u001b[39m.\u001b[39mtolist()))\n\u001b[1;32m    621\u001b[0m start_time \u001b[39m=\u001b[39m time()\n\u001b[0;32m--> 622\u001b[0m sampled_expect_op \u001b[39m=\u001b[39m \u001b[39mself\u001b[39;49m\u001b[39m.\u001b[39;49m_circuit_sampler\u001b[39m.\u001b[39;49mconvert(expect_op, params\u001b[39m=\u001b[39;49mparam_bindings)\n\u001b[1;32m    623\u001b[0m means \u001b[39m=\u001b[39m np\u001b[39m.\u001b[39mreal(sampled_expect_op\u001b[39m.\u001b[39meval())\n\u001b[1;32m    625\u001b[0m \u001b[39mif\u001b[39;00m \u001b[39mself\u001b[39m\u001b[39m.\u001b[39m_callback \u001b[39mis\u001b[39;00m \u001b[39mnot\u001b[39;00m \u001b[39mNone\u001b[39;00m:\n",
      "File \u001b[0;32m~/git/qiskit-terra/qiskit/opflow/converters/circuit_sampler.py:216\u001b[0m, in \u001b[0;36mCircuitSampler.convert\u001b[0;34m(self, operator, params)\u001b[0m\n\u001b[1;32m    214\u001b[0m circs \u001b[39m=\u001b[39m \u001b[39mlist\u001b[39m(\u001b[39mself\u001b[39m\u001b[39m.\u001b[39m_circuit_ops_cache\u001b[39m.\u001b[39mvalues()) \u001b[39mif\u001b[39;00m \u001b[39mnot\u001b[39;00m \u001b[39mself\u001b[39m\u001b[39m.\u001b[39m_transpiled_circ_cache \u001b[39melse\u001b[39;00m \u001b[39mNone\u001b[39;00m\n\u001b[1;32m    215\u001b[0m p_b \u001b[39m=\u001b[39m cast(List[Dict[Parameter, \u001b[39mfloat\u001b[39m]], param_bindings)\n\u001b[0;32m--> 216\u001b[0m sampled_statefn_dicts \u001b[39m=\u001b[39m \u001b[39mself\u001b[39;49m\u001b[39m.\u001b[39;49msample_circuits(circuit_sfns\u001b[39m=\u001b[39;49mcircs, param_bindings\u001b[39m=\u001b[39;49mp_b)\n\u001b[1;32m    218\u001b[0m \u001b[39mdef\u001b[39;00m \u001b[39mreplace_circuits_with_dicts\u001b[39m(operator, param_index\u001b[39m=\u001b[39m\u001b[39m0\u001b[39m):\n\u001b[1;32m    219\u001b[0m     \u001b[39mif\u001b[39;00m \u001b[39misinstance\u001b[39m(operator, CircuitStateFn):\n",
      "File \u001b[0;32m~/git/qiskit-terra/qiskit/opflow/converters/circuit_sampler.py:319\u001b[0m, in \u001b[0;36mCircuitSampler.sample_circuits\u001b[0;34m(self, circuit_sfns, param_bindings)\u001b[0m\n\u001b[1;32m    317\u001b[0m \u001b[39melse\u001b[39;00m:\n\u001b[1;32m    318\u001b[0m     start_time \u001b[39m=\u001b[39m time()\n\u001b[0;32m--> 319\u001b[0m     ready_circs \u001b[39m=\u001b[39m [\n\u001b[1;32m    320\u001b[0m         circ\u001b[39m.\u001b[39massign_parameters(_filter_params(circ, binding))\n\u001b[1;32m    321\u001b[0m         \u001b[39mfor\u001b[39;00m circ \u001b[39min\u001b[39;00m \u001b[39mself\u001b[39m\u001b[39m.\u001b[39m_transpiled_circ_cache\n\u001b[1;32m    322\u001b[0m         \u001b[39mfor\u001b[39;00m binding \u001b[39min\u001b[39;00m param_bindings\n\u001b[1;32m    323\u001b[0m     ]\n\u001b[1;32m    324\u001b[0m     end_time \u001b[39m=\u001b[39m time()\n\u001b[1;32m    325\u001b[0m     logger\u001b[39m.\u001b[39mdebug(\u001b[39m\"\u001b[39m\u001b[39mParameter binding \u001b[39m\u001b[39m%.5f\u001b[39;00m\u001b[39m (ms)\u001b[39m\u001b[39m\"\u001b[39m, (end_time \u001b[39m-\u001b[39m start_time) \u001b[39m*\u001b[39m \u001b[39m1000\u001b[39m)\n",
      "File \u001b[0;32m~/git/qiskit-terra/qiskit/opflow/converters/circuit_sampler.py:320\u001b[0m, in \u001b[0;36m<listcomp>\u001b[0;34m(.0)\u001b[0m\n\u001b[1;32m    317\u001b[0m \u001b[39melse\u001b[39;00m:\n\u001b[1;32m    318\u001b[0m     start_time \u001b[39m=\u001b[39m time()\n\u001b[1;32m    319\u001b[0m     ready_circs \u001b[39m=\u001b[39m [\n\u001b[0;32m--> 320\u001b[0m         circ\u001b[39m.\u001b[39;49massign_parameters(_filter_params(circ, binding))\n\u001b[1;32m    321\u001b[0m         \u001b[39mfor\u001b[39;00m circ \u001b[39min\u001b[39;00m \u001b[39mself\u001b[39m\u001b[39m.\u001b[39m_transpiled_circ_cache\n\u001b[1;32m    322\u001b[0m         \u001b[39mfor\u001b[39;00m binding \u001b[39min\u001b[39;00m param_bindings\n\u001b[1;32m    323\u001b[0m     ]\n\u001b[1;32m    324\u001b[0m     end_time \u001b[39m=\u001b[39m time()\n\u001b[1;32m    325\u001b[0m     logger\u001b[39m.\u001b[39mdebug(\u001b[39m\"\u001b[39m\u001b[39mParameter binding \u001b[39m\u001b[39m%.5f\u001b[39;00m\u001b[39m (ms)\u001b[39m\u001b[39m\"\u001b[39m, (end_time \u001b[39m-\u001b[39m start_time) \u001b[39m*\u001b[39m \u001b[39m1000\u001b[39m)\n",
      "File \u001b[0;32m~/git/qiskit-terra/qiskit/circuit/quantumcircuit.py:2482\u001b[0m, in \u001b[0;36mQuantumCircuit.assign_parameters\u001b[0;34m(self, parameters, inplace)\u001b[0m\n\u001b[1;32m   2480\u001b[0m     \u001b[39m# replace the parameters with a new Parameter (\"substitute\") or numeric value (\"bind\")\u001b[39;00m\n\u001b[1;32m   2481\u001b[0m     \u001b[39mfor\u001b[39;00m parameter, value \u001b[39min\u001b[39;00m unrolled_param_dict\u001b[39m.\u001b[39mitems():\n\u001b[0;32m-> 2482\u001b[0m         bound_circuit\u001b[39m.\u001b[39;49m_assign_parameter(parameter, value)\n\u001b[1;32m   2483\u001b[0m \u001b[39melse\u001b[39;00m:\n\u001b[1;32m   2484\u001b[0m     \u001b[39mif\u001b[39;00m \u001b[39mlen\u001b[39m(parameters) \u001b[39m!=\u001b[39m \u001b[39mself\u001b[39m\u001b[39m.\u001b[39mnum_parameters:\n",
      "File \u001b[0;32m~/git/qiskit-terra/qiskit/circuit/quantumcircuit.py:2565\u001b[0m, in \u001b[0;36mQuantumCircuit._assign_parameter\u001b[0;34m(self, parameter, value)\u001b[0m\n\u001b[1;32m   2563\u001b[0m \u001b[39m# Normal ParameterExpression.\u001b[39;00m\n\u001b[1;32m   2564\u001b[0m \u001b[39mif\u001b[39;00m \u001b[39misinstance\u001b[39m(assignee, ParameterExpression):\n\u001b[0;32m-> 2565\u001b[0m     new_param \u001b[39m=\u001b[39m assignee\u001b[39m.\u001b[39;49massign(parameter, value)\n\u001b[1;32m   2566\u001b[0m     \u001b[39m# if fully bound, validate\u001b[39;00m\n\u001b[1;32m   2567\u001b[0m     \u001b[39mif\u001b[39;00m \u001b[39mlen\u001b[39m(new_param\u001b[39m.\u001b[39mparameters) \u001b[39m==\u001b[39m \u001b[39m0\u001b[39m:\n",
      "File \u001b[0;32m~/git/qiskit-terra/qiskit/circuit/parameterexpression.py:91\u001b[0m, in \u001b[0;36mParameterExpression.assign\u001b[0;34m(self, parameter, value)\u001b[0m\n\u001b[1;32m     89\u001b[0m \u001b[39mif\u001b[39;00m \u001b[39misinstance\u001b[39m(value, ParameterExpression):\n\u001b[1;32m     90\u001b[0m     \u001b[39mreturn\u001b[39;00m \u001b[39mself\u001b[39m\u001b[39m.\u001b[39msubs({parameter: value})\n\u001b[0;32m---> 91\u001b[0m \u001b[39mreturn\u001b[39;00m \u001b[39mself\u001b[39;49m\u001b[39m.\u001b[39;49mbind({parameter: value})\n",
      "File \u001b[0;32m~/git/qiskit-terra/qiskit/circuit/parameterexpression.py:120\u001b[0m, in \u001b[0;36mParameterExpression.bind\u001b[0;34m(self, parameter_values)\u001b[0m\n\u001b[1;32m    117\u001b[0m     param_expr \u001b[39m=\u001b[39m \u001b[39mself\u001b[39m\u001b[39m.\u001b[39m_parameter_symbols[parameter]\n\u001b[1;32m    118\u001b[0m     symbol_values[param_expr] \u001b[39m=\u001b[39m value\n\u001b[0;32m--> 120\u001b[0m bound_symbol_expr \u001b[39m=\u001b[39m \u001b[39mself\u001b[39;49m\u001b[39m.\u001b[39;49m_symbol_expr\u001b[39m.\u001b[39;49msubs(symbol_values)\n\u001b[1;32m    122\u001b[0m \u001b[39m# Don't use sympy.free_symbols to count remaining parameters here.\u001b[39;00m\n\u001b[1;32m    123\u001b[0m \u001b[39m# sympy will in some cases reduce the expression and remove even\u001b[39;00m\n\u001b[1;32m    124\u001b[0m \u001b[39m# unbound symbols.\u001b[39;00m\n\u001b[1;32m    125\u001b[0m \u001b[39m# e.g. (sympy.Symbol('s') * 0).free_symbols == set()\u001b[39;00m\n\u001b[1;32m    127\u001b[0m free_parameters \u001b[39m=\u001b[39m \u001b[39mself\u001b[39m\u001b[39m.\u001b[39mparameters \u001b[39m-\u001b[39m parameter_values\u001b[39m.\u001b[39mkeys()\n",
      "\u001b[0;31mKeyboardInterrupt\u001b[0m: "
     ]
    }
   ],
   "source": [
    "from suffix_averaging import SuffixAveragingOptimizer\n",
    "import os\n",
    "import json\n",
    "import itertools\n",
    "import numpy as np\n",
    "import pylab\n",
    "from qiskit import IBMQ, Aer\n",
    "from qiskit.utils import QuantumInstance\n",
    "from qiskit.providers.aer.noise import NoiseModel\n",
    "\n",
    "#General imports\n",
    "import numpy as np\n",
    "import ndjson\n",
    "\n",
    "\n",
    "#Operator Imports\n",
    "from qiskit.opflow import Z, X, I\n",
    "\n",
    "from qiskit import Aer\n",
    "from qiskit.opflow import X, Z, I\n",
    "\n",
    "from qiskit.utils import QuantumInstance, algorithm_globals\n",
    "from qiskit.algorithms import VQE\n",
    "from qiskit.algorithms.optimizers import SPSA, NFT, ADAM, GradientDescent, SLSQP, COBYLA, L_BFGS_B, SLSQP\n",
    "from qiskit.circuit.library import TwoLocal\n",
    "\n",
    "circ_params = []\n",
    "def load_params(x):\n",
    "    circ_params.append(x)\n",
    "\n",
    "iters = 1000\n",
    "optimizers = [ADAM(lr=0.1, maxiter=iters), NFT(maxiter=iters), SPSA(maxiter=iters), GradientDescent(maxiter=iters) ,SLSQP(maxiter = iters),COBYLA(maxiter=iters), L_BFGS_B(maxiter=iters)]\n",
    "\n",
    "H2_op = (-1.052373245772859 * I ^ I) + \\\n",
    "        (0.39793742484318045 * I ^ Z) + \\\n",
    "        (-0.39793742484318045 * Z ^ I) + \\\n",
    "        (-0.01128010425623538 * Z ^ Z) + \\\n",
    "        (0.18093119978423156 * X ^ X)\n",
    "\n",
    "#IBMQ.load_account()\n",
    "provider = IBMQ.get_provider(hub='ibm-q')\n",
    "backend = Aer.get_backend(\"qasm_simulator\")\n",
    "device = provider.get_backend(\"ibmq_lima\")\n",
    "coupling_map = device.configuration().coupling_map\n",
    "noise_model = NoiseModel.from_backend(device)\n",
    "\n",
    "#qi_100 = QuantumInstance(backend=backend, shots=100, noise_model=noise_model, coupling_map=coupling_map)\n",
    "#qi_500 = QuantumInstance(backend=backend, shots=500, noise_model=noise_model, coupling_map=coupling_map)\n",
    "#qi_1000 = QuantumInstance(backend=backend, shots=1000, noise_model=noise_model, coupling_map=coupling_map)\n",
    "\n",
    "\n",
    "qi_100 = QuantumInstance(backend=backend, shots=100)\n",
    "qi_500 = QuantumInstance(backend=backend, shots=500)\n",
    "qi_1000 = QuantumInstance(backend=backend, shots=1000)\n",
    "\n",
    "instances = [qi_100, qi_500, qi_1000]\n",
    "\n",
    "converge_cnts = np.empty([len(optimizers), len(instances)], dtype=object)\n",
    "converge_vals = np.empty([len(optimizers), len(instances)], dtype=object)\n",
    "improvements = np.empty([len(optimizers), len(instances)], dtype=object)\n",
    "\n",
    "for j, optimizer in enumerate(optimizers):\n",
    "    for i, quantum_instance in enumerate(instances):\n",
    "        print('\\rOptimizer: {}        '.format(type(optimizer).__name__), end='')\n",
    "        algorithm_globals.random_seed = 50\n",
    "        ansatz = TwoLocal(rotation_blocks='ry', entanglement_blocks='cz')\n",
    "\n",
    "        counts = []\n",
    "        values = []\n",
    "        def store_intermediate_result(eval_count, parameters, mean, std):\n",
    "            counts.append(eval_count)\n",
    "            values.append(mean)\n",
    "\n",
    "        path = os.getcwd()\n",
    "        \n",
    "        \n",
    "        if i%3 == 0:\n",
    "            config_exp = type(optimizer).__name__+\"_H2\"+\"_100shots\"+\"_\"+str(iters)+\"iters\"+\"_noisy\"\n",
    "            dict_exp = {\"optimizer\": type(optimizer).__name__, \"system\": \"H2\", \"shots\": 100, \"iters\": iters, \"is_noisy\": False}\n",
    "        elif i%3 == 1:\n",
    "            config_exp = type(optimizer).__name__+\"_H2\"+\"_500shots\"+\"_\"+str(iters)+\"iters\"+\"_noisy\"\n",
    "            dict_exp = {\"optimizer\": type(optimizer).__name__, \"system\": \"H2\", \"shots\": 500, \"iters\": iters, \"is_noisy\": False}\n",
    "        else:\n",
    "            config_exp = type(optimizer).__name__+\"_H2\"+\"_1000shots\"+\"_\"+str(iters)+\"iters\"+\"_noisy\"\n",
    "            dict_exp = {\"optimizer\": type(optimizer).__name__, \"system\": \"H2\", \"shots\": 1000, \"iters\": iters, \"is_noisy\": False}\n",
    "\n",
    "\n",
    "        filename = \"circ_params_\"+config_exp\n",
    "            \n",
    "        suffix_optimizer = SuffixAveragingOptimizer(optimizer, suffix_dir = path, suffix_filename = filename, save_params=False, save_averaged_params=False, alpha = 0.1)\n",
    "\n",
    "\n",
    "        vqe = VQE(ansatz, suffix_optimizer, callback = store_intermediate_result, quantum_instance=quantum_instance)\n",
    "        #vqe = VQE(ansatz, suffix_optimizer, callback=store_intermediate_result, quantum_instance = QuantumInstance(backend=Aer.get_backend('statevector_simulator')))\n",
    "        result = vqe.compute_minimum_eigenvalue(operator=H2_op)\n",
    "        converge_cnts[j,i] = np.asarray(counts)\n",
    "        converge_vals[j,i] = np.asarray(values)\n",
    "        improvements[j,i] = converge_vals[j][i][-2]-result.optimal_value\n",
    "\n",
    "        dict_exp.update(improvements = improvements[j,i])\n",
    "\n",
    "        print(config_exp)\n",
    "        print(\"sa_result\", result.optimal_value)\n",
    "        print(\"prev_result\", converge_vals[j][i][-2])\n",
    "        print(\"improvement\", improvements[j,i])\n",
    "\n",
    "\n",
    "        filename_imp = \"suffix_results.ndjson\"\n",
    "        with open(filename_imp, 'a') as f:\n",
    "            writer = ndjson.writer(f)\n",
    "            writer.writerow(dict_exp)"
   ]
  },
  {
   "cell_type": "code",
   "execution_count": null,
   "metadata": {},
   "outputs": [],
   "source": []
  },
  {
   "cell_type": "code",
   "execution_count": 2,
   "metadata": {},
   "outputs": [
    {
     "name": "stdout",
     "output_type": "stream",
     "text": [
      "Optimization complete\n",
      "sa_result -1.0800973451649771\n",
      "prev_result -1.0502213317648448\n",
      "improvement 0.02987601340013235\n"
     ]
    },
    {
     "data": {
      "image/png": "[encoded data removed]",
      "text/plain": [
       "<Figure size 432x288 with 1 Axes>"
      ]
     },
     "metadata": {
      "needs_background": "light"
     },
     "output_type": "display_data"
    }
   ],
   "source": [
    "print('\\rOptimization complete')\n",
    "pylab.rcParams['figure.figsize'] = (12, 8)\n",
    "for i, optimizer in enumerate(optimizers):\n",
    "    pylab.plot(converge_cnts[i], converge_vals[i], label=type(optimizer).__name__)\n",
    "pylab.xlabel('Eval count')\n",
    "pylab.ylabel('Energy')\n",
    "pylab.title('Energy convergence for various optimizers')\n",
    "pylab.legend(loc='upper right')\n",
    "print(\"sa_result\", result.optimal_value)\n",
    "print(\"prev_result\", converge_vals[0][-2])\n",
    "print(\"improvement\", converge_vals[0][-2]-result.optimal_value)"
   ]
  },
  {
   "cell_type": "code",
   "execution_count": 11,
   "metadata": {},
   "outputs": [
    {
     "data": {
      "text/plain": [
       "array([[None, None, None],\n",
       "       [None, None, None]], dtype=object)"
      ]
     },
     "execution_count": 11,
     "metadata": {},
     "output_type": "execute_result"
    }
   ],
   "source": [
    "import ndjson\n",
    "filename_imp = \"suffix_results.ndjson\"\n",
    "with open(filename_imp, 'a') as f:\n",
    "    writer = ndjson.writer(f)\n",
    "    writer.writerow()"
   ]
  },
  {
   "cell_type": "code",
   "execution_count": 9,
   "metadata": {},
   "outputs": [
    {
     "data": {
      "text/plain": [
       "<bound method QasmSimulator.configuration of QasmSimulator('qasm_simulator')>"
      ]
     },
     "execution_count": 9,
     "metadata": {},
     "output_type": "execute_result"
    }
   ],
   "source": [
    "qi_100.backend"
   ]
  },
  {
   "cell_type": "code",
   "execution_count": null,
   "metadata": {},
   "outputs": [],
   "source": []
  }
 ],
 "metadata": {
  "kernelspec": {
   "display_name": "Python 3.9.13 64-bit ('3.9.13')",
   "language": "python",
   "name": "python3"
  },
  "language_info": {
   "codemirror_mode": {
    "name": "ipython",
    "version": 3
   },
   "file_extension": ".py",
   "mimetype": "text/x-python",
   "name": "python",
   "nbconvert_exporter": "python",
   "pygments_lexer": "ipython3",
   "version": "3.9.13"
  },
  "orig_nbformat": 4,
  "vscode": {
   "interpreter": {
    "hash": "9480c4f46c139370a85f1b2b6ce20d3c66a315935ea6eaa12aa532440390ce75"
   }
  }
 },
 "nbformat": 4,
 "nbformat_minor": 2
}

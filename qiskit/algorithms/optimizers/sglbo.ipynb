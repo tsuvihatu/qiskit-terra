{
 "cells": [
  {
   "cell_type": "code",
   "execution_count": 15,
   "metadata": {},
   "outputs": [],
   "source": [
    "import numpy as np\n",
    "import GPyOpt\n",
    "\n",
    "#General imports\n",
    "import numpy as np\n",
    "\n",
    "#Operator Imports\n",
    "from qiskit.opflow import Z, X, I, StateFn, CircuitStateFn, SummedOp\n",
    "from qiskit.opflow.gradients import Gradient, NaturalGradient, QFI, Hessian\n",
    "\n",
    "#Circuit imports\n",
    "from qiskit.circuit import QuantumCircuit, QuantumRegister, Parameter, ParameterVector, ParameterExpression\n",
    "from qiskit.circuit.library import EfficientSU2\n",
    "\n",
    "from qiskit import Aer\n",
    "from qiskit.opflow import X, Z, I\n",
    "\n",
    "#Operator Imports\n",
    "from qiskit.opflow import StateFn, CircuitStateFn, SummedOp\n",
    "from qiskit.opflow.gradients import Gradient, NaturalGradient, QFI, Hessian\n",
    "\n",
    "from qiskit.utils import QuantumInstance, algorithm_globals\n",
    "from qiskit.algorithms import VQE\n",
    "from qiskit.algorithms.optimizers import SLSQP\n",
    "from qiskit.circuit.library import TwoLocal"
   ]
  },
  {
   "cell_type": "markdown",
   "metadata": {},
   "source": [
    "- GPyOptの動作確認"
   ]
  },
  {
   "cell_type": "code",
   "execution_count": 7,
   "metadata": {},
   "outputs": [],
   "source": [
    "def f(x):\n",
    "    '''\n",
    "    今回最適化する非線形関数\n",
    "    '''\n",
    "    return np.cos(1.5*x) + 0.1*x"
   ]
  },
  {
   "cell_type": "code",
   "execution_count": 8,
   "metadata": {},
   "outputs": [],
   "source": [
    "bounds = [{'name': 'x', 'type': 'continuous', 'domain': (0,10)}]\n",
    "myBopt = GPyOpt.methods.BayesianOptimization(f=f, domain=bounds,initial_design_numdata=5,acquisition_type='LCB')"
   ]
  },
  {
   "cell_type": "code",
   "execution_count": 10,
   "metadata": {},
   "outputs": [
    {
     "name": "stdout",
     "output_type": "stream",
     "text": [
      "[2.04994327]\n",
      "-0.7927835353919437\n"
     ]
    }
   ],
   "source": [
    "myBopt.run_optimization(max_iter=15)\n",
    "print(myBopt.x_opt) #[ 2.05769988]\n",
    "print(myBopt.fx_opt) #[-0.79271554]"
   ]
  },
  {
   "cell_type": "markdown",
   "metadata": {},
   "source": [
    "- VQEの動作確認"
   ]
  },
  {
   "cell_type": "code",
   "execution_count": 14,
   "metadata": {},
   "outputs": [
    {
     "name": "stdout",
     "output_type": "stream",
     "text": [
      "{   'aux_operator_eigenvalues': None,\n",
      "    'cost_function_evals': 65,\n",
      "    'eigenstate': array([ 9.55226152e-05+0.j, -9.93766271e-01+0.j,  1.11483580e-01+0.j,\n",
      "        1.76601711e-05+0.j]),\n",
      "    'eigenvalue': (-1.8572750175717325+0j),\n",
      "    'optimal_parameters': {   ParameterVectorElement(θ[7]): 0.360207286776629,\n",
      "                              ParameterVectorElement(θ[6]): -4.717618234146674,\n",
      "                              ParameterVectorElement(θ[4]): -2.5983258613074067,\n",
      "                              ParameterVectorElement(θ[3]): 6.092947753580507,\n",
      "                              ParameterVectorElement(θ[2]): 0.5470753397247619,\n",
      "                              ParameterVectorElement(θ[1]): 4.426962179818735,\n",
      "                              ParameterVectorElement(θ[0]): 4.2965204339523275,\n",
      "                              ParameterVectorElement(θ[5]): 1.5683258965310904},\n",
      "    'optimal_point': array([ 4.29652043,  4.42696218,  0.54707534,  6.09294775, -2.59832586,\n",
      "        1.5683259 , -4.71761823,  0.36020729]),\n",
      "    'optimal_value': -1.8572750175717325,\n",
      "    'optimizer_evals': None,\n",
      "    'optimizer_time': 0.0745689868927002}\n"
     ]
    }
   ],
   "source": [
    "seed = 50\n",
    "algorithm_globals.random_seed = seed\n",
    "grad = Gradient(grad_method='lin_comb')\n",
    "\n",
    "qi = QuantumInstance(Aer.get_backend('statevector_simulator'), seed_transpiler=seed, seed_simulator=seed)\n",
    "\n",
    "H2_op = (-1.052373245772859 * I ^ I) + \\\n",
    "        (0.39793742484318045 * I ^ Z) + \\\n",
    "        (-0.39793742484318045 * Z ^ I) + \\\n",
    "        (-0.01128010425623538 * Z ^ Z) + \\\n",
    "        (0.18093119978423156 * X ^ X)\n",
    "\n",
    "ansatz = TwoLocal(rotation_blocks='ry', entanglement_blocks='cz')\n",
    "slsqp = SLSQP(maxiter=1000) #slsqpインスタンスの呼び出し\n",
    "vqe = VQE(ansatz, optimizer=slsqp, gradient=grad, quantum_instance=qi) #optimizerはVQEの引数に入れる\n",
    "result = vqe.compute_minimum_eigenvalue(operator=H2_op)\n",
    "print(result)\n",
    "optimizer_evals = result.optimizer_evals\n"
   ]
  },
  {
   "cell_type": "markdown",
   "metadata": {},
   "source": [
    "- 勾配クラス Gradientの使い方"
   ]
  },
  {
   "cell_type": "code",
   "execution_count": 18,
   "metadata": {},
   "outputs": [
    {
     "name": "stdout",
     "output_type": "stream",
     "text": [
      "ComposedOp([\n",
      "  OperatorMeasurement(2.0 * X\n",
      "  + 1.0 * Z),\n",
      "  CircuitStateFn(\n",
      "       ┌───┐┌───────┐┌───────┐\n",
      "  q54: ┤ H ├┤ Rz(a) ├┤ Rx(b) ├\n",
      "       └───┘└───────┘└───────┘\n",
      "  )\n",
      "])\n",
      "Gradient [(-1.414213562373094+8.5e-18j), (-0.7071067811865475-2.7499999999999997e-17j)]\n"
     ]
    }
   ],
   "source": [
    "# Instantiate the quantum state\n",
    "a = Parameter('a')\n",
    "b = Parameter('b')\n",
    "q = QuantumRegister(1)\n",
    "qc = QuantumCircuit(q)\n",
    "qc.h(q)\n",
    "qc.rz(a, q[0])\n",
    "qc.rx(b, q[0])\n",
    "\n",
    "# Instantiate the Hamiltonian observable\n",
    "H = (2 * X) + Z\n",
    "\n",
    "# Combine the Hamiltonian observable and the state\n",
    "op = ~StateFn(H) @ CircuitStateFn(primitive=qc, coeff=1.)\n",
    "\n",
    "# Print the operator corresponding to the expectation value\n",
    "print(op)\n",
    "\n",
    "\n",
    "params = [a, b]\n",
    "\n",
    "# Define the values to be assigned to the parameters\n",
    "value_dict = {a: np.pi / 4, b: np.pi}\n",
    "\n",
    "# Convert the operator and the gradient target params into the respective operator\n",
    "grad = Gradient().convert(operator = op, params = params)\n",
    "\n",
    "# Print the operator corresponding to the Gradient\n",
    "#print(grad)\n",
    "\n",
    "\n",
    "# Assign the parameters and evaluate the gradient\n",
    "grad_result = grad.assign_parameters(value_dict).eval()\n",
    "print('Gradient', grad_result)"
   ]
  },
  {
   "cell_type": "code",
   "execution_count": 8,
   "metadata": {},
   "outputs": [],
   "source": [
    "class VQE():\n",
    "    def __init__(\n",
    "        self,\n",
    "        name=\"tage\",\n",
    "        age=23,\n",
    "        **kwargs\n",
    "    ):\n",
    "        self.name = name\n",
    "        self.age = age\n"
   ]
  },
  {
   "cell_type": "code",
   "execution_count": 9,
   "metadata": {},
   "outputs": [
    {
     "name": "stdout",
     "output_type": "stream",
     "text": [
      "tage\n"
     ]
    }
   ],
   "source": [
    "a = VQE()\n",
    "print(a.name)"
   ]
  },
  {
   "cell_type": "code",
   "execution_count": 10,
   "metadata": {},
   "outputs": [],
   "source": [
    "class wrapper_VQE(VQE):\n",
    "    def __init__(self, optimizer):\n",
    "        self._optimizer = optimizer(callback = load_params)\n",
    "        def load_params(x): #初期点が含まれないことに注意\n",
    "            circ_params.append(x)"
   ]
  },
  {
   "cell_type": "code",
   "execution_count": 11,
   "metadata": {},
   "outputs": [],
   "source": [
    "import numpy as np\n",
    "import pylab\n",
    "\n",
    "from qiskit import Aer\n",
    "from qiskit.opflow import X, Z, I\n",
    "from qiskit.utils import QuantumInstance, algorithm_globals\n",
    "from qiskit.algorithms import VQE, NumPyMinimumEigensolver\n",
    "from qiskit.algorithms.optimizers import COBYLA, L_BFGS_B, SLSQP\n",
    "from qiskit.circuit.library import TwoLocal"
   ]
  },
  {
   "cell_type": "code",
   "execution_count": 12,
   "metadata": {},
   "outputs": [],
   "source": [
    "H2_op = (-1.052373245772859 * I ^ I) + \\\n",
    "        (0.39793742484318045 * I ^ Z) + \\\n",
    "        (-0.39793742484318045 * Z ^ I) + \\\n",
    "        (-0.01128010425623538 * Z ^ Z) + \\\n",
    "        (0.18093119978423156 * X ^ X)"
   ]
  },
  {
   "cell_type": "code",
   "execution_count": 2,
   "metadata": {},
   "outputs": [
    {
     "name": "stdout",
     "output_type": "stream",
     "text": [
      "Optimizer: SPSA        -1.8571817579343923\n",
      "Optimization complete\n",
      "[ 3.6376114   3.31884666 -0.21483138  6.6251649  -2.33536059  2.99732887\n",
      " -4.64772133  0.16423211]\n",
      "-1.8570371512604926\n"
     ]
    },
    {
     "data": {
      "image/png": "[encoded data removed]",
      "text/plain": [
       "<Figure size 432x288 with 1 Axes>"
      ]
     },
     "metadata": {
      "needs_background": "light"
     },
     "output_type": "display_data"
    }
   ],
   "source": [
    "from suffix_averaging import SuffixAveragingOptimizer\n",
    "from nft import NFT\n",
    "import os\n",
    "import numpy as np\n",
    "import numpy as np\n",
    "import GPyOpt\n",
    "import pylab\n",
    "\n",
    "\n",
    "#General imports\n",
    "import numpy as np\n",
    "\n",
    "#Operator Imports\n",
    "from qiskit.opflow import Z, X, I, StateFn, CircuitStateFn, SummedOp\n",
    "from qiskit.opflow.gradients import Gradient, NaturalGradient, QFI, Hessian\n",
    "\n",
    "#Circuit imports\n",
    "from qiskit.circuit import QuantumCircuit, QuantumRegister, Parameter, ParameterVector, ParameterExpression\n",
    "from qiskit.circuit.library import EfficientSU2\n",
    "\n",
    "from qiskit import Aer\n",
    "from qiskit.opflow import X, Z, I\n",
    "\n",
    "#Operator Imports\n",
    "from qiskit.opflow import StateFn, CircuitStateFn, SummedOp\n",
    "from qiskit.opflow.gradients import Gradient, NaturalGradient, QFI, Hessian\n",
    "\n",
    "from qiskit.utils import QuantumInstance, algorithm_globals\n",
    "from qiskit.algorithms import VQE\n",
    "from qiskit.algorithms.optimizers import SLSQP, SPSA\n",
    "from qiskit.circuit.library import TwoLocal\n",
    "\n",
    "#optimizers = [NFT(maxiter=60)]\n",
    "optimizers = [SPSA(maxiter=1000)]\n",
    "converge_cnts = np.empty([len(optimizers)], dtype=object)\n",
    "converge_vals = np.empty([len(optimizers)], dtype=object)\n",
    "\n",
    "H2_op = (-1.052373245772859 * I ^ I) + \\\n",
    "        (0.39793742484318045 * I ^ Z) + \\\n",
    "        (-0.39793742484318045 * Z ^ I) + \\\n",
    "        (-0.01128010425623538 * Z ^ Z) + \\\n",
    "        (0.18093119978423156 * X ^ X)\n",
    "\n",
    "for i, optimizer in enumerate(optimizers):\n",
    "    print('\\rOptimizer: {}        '.format(type(optimizer).__name__), end='')\n",
    "    algorithm_globals.random_seed = 50\n",
    "    ansatz = TwoLocal(rotation_blocks='ry', entanglement_blocks='cz')\n",
    "\n",
    "    counts = []\n",
    "    values = []\n",
    "    def store_intermediate_result(eval_count, parameters, mean, std):\n",
    "        counts.append(eval_count)\n",
    "        values.append(mean)\n",
    "\n",
    "    path = os.getcwd()\n",
    "    filename = \"circ_params_SPSA\"\n",
    "    suffix_optimizer = SuffixAveragingOptimizer(optimizer, \"SPSA\",suffix_dir = path, suffix_filename = filename, save_params=True, alpha = 0.1)\n",
    "\n",
    "    vqe = VQE(ansatz, suffix_optimizer, callback=store_intermediate_result,\n",
    "              quantum_instance=QuantumInstance(backend=Aer.get_backend('statevector_simulator')))\n",
    "    result = vqe.compute_minimum_eigenvalue(operator=H2_op)\n",
    "    #suffix_optimizer.save_circ_params()\n",
    "    #circ_params = suffix_optimizer.read_circ_params()\n",
    "    converge_cnts[i] = np.asarray(counts)\n",
    "    converge_vals[i] = np.asarray(values)\n",
    "print('\\rOptimization complete')\n",
    "pylab.rcParams['figure.figsize'] = (12, 8)\n",
    "for i, optimizer in enumerate(optimizers):\n",
    "    pylab.plot(converge_cnts[i], converge_vals[i], label=type(optimizer).__name__)\n",
    "pylab.xlabel('Eval count')\n",
    "pylab.ylabel('Energy')\n",
    "pylab.title('Energy convergence for various optimizers')\n",
    "pylab.legend(loc='upper right')\n",
    "print(result.optimal_point)\n",
    "print(result.optimal_value)"
   ]
  },
  {
   "cell_type": "code",
   "execution_count": null,
   "metadata": {},
   "outputs": [],
   "source": []
  }
 ],
 "metadata": {
  "interpreter": {
   "hash": "3c61fe82b2c3b63fa8b3fdedeb5dfb8c615f93e99e5bd3d31b17a56b584b8c11"
  },
  "kernelspec": {
   "display_name": "Python 3.10.3 64-bit ('3.10.3')",
   "language": "python",
   "name": "python3"
  },
  "language_info": {
   "codemirror_mode": {
    "name": "ipython",
    "version": 3
   },
   "file_extension": ".py",
   "mimetype": "text/x-python",
   "name": "python",
   "nbconvert_exporter": "python",
   "pygments_lexer": "ipython3",
   "version": "3.10.3"
  },
  "orig_nbformat": 4
 },
 "nbformat": 4,
 "nbformat_minor": 2
}
